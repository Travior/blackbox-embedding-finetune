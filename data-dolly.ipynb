{
 "cells": [
  {
   "cell_type": "code",
   "execution_count": 2,
   "metadata": {},
   "outputs": [
    {
     "name": "stderr",
     "output_type": "stream",
     "text": [
      "Downloading readme: 100%|██████████| 8.20k/8.20k [00:00<00:00, 17.0MB/s]\n",
      "Downloading data: 100%|██████████| 13.1M/13.1M [00:00<00:00, 21.0MB/s]\n",
      "Generating train split: 15011 examples [00:00, 190879.65 examples/s]\n"
     ]
    }
   ],
   "source": [
    "from datasets import load_dataset\n",
    "\n",
    "dataset = load_dataset(\"databricks/databricks-dolly-15k\")"
   ]
  },
  {
   "cell_type": "code",
   "execution_count": 8,
   "metadata": {},
   "outputs": [],
   "source": [
    "from dataclasses import dataclass\n",
    "from typing import Optional\n",
    "import torch\n",
    "\n",
    "@dataclass\n",
    "class Question:\n",
    "    question: str\n",
    "    context_index: int\n",
    "    embedding: Optional[torch.Tensor] = None\n",
    "    transformed_embedding: Optional[torch.Tensor] = None\n",
    "\n",
    "@dataclass\n",
    "class Context:\n",
    "    context: str\n",
    "    context_index: int\n",
    "    embedding: Optional[torch.Tensor] = None\n",
    "    transformed_embedding: Optional[torch.Tensor] = None\n",
    "\n",
    "@dataclass\n",
    "class DataCollection:\n",
    "    questions: list[Question]\n",
    "    contexts: list[Context]\n",
    "    metadata: dict\n"
   ]
  },
  {
   "cell_type": "code",
   "execution_count": 12,
   "metadata": {},
   "outputs": [],
   "source": [
    "df = dataset['train'].to_pandas()"
   ]
  },
  {
   "cell_type": "code",
   "execution_count": 13,
   "metadata": {},
   "outputs": [],
   "source": [
    "df = df[df['category'] == \"closed_qa\"]"
   ]
  },
  {
   "cell_type": "code",
   "execution_count": 14,
   "metadata": {},
   "outputs": [
    {
     "data": {
      "text/html": [
       "<div>\n",
       "<style scoped>\n",
       "    .dataframe tbody tr th:only-of-type {\n",
       "        vertical-align: middle;\n",
       "    }\n",
       "\n",
       "    .dataframe tbody tr th {\n",
       "        vertical-align: top;\n",
       "    }\n",
       "\n",
       "    .dataframe thead th {\n",
       "        text-align: right;\n",
       "    }\n",
       "</style>\n",
       "<table border=\"1\" class=\"dataframe\">\n",
       "  <thead>\n",
       "    <tr style=\"text-align: right;\">\n",
       "      <th></th>\n",
       "      <th>instruction</th>\n",
       "      <th>context</th>\n",
       "      <th>response</th>\n",
       "      <th>category</th>\n",
       "    </tr>\n",
       "  </thead>\n",
       "  <tbody>\n",
       "    <tr>\n",
       "      <th>0</th>\n",
       "      <td>When did Virgin Australia start operating?</td>\n",
       "      <td>Virgin Australia, the trading name of Virgin A...</td>\n",
       "      <td>Virgin Australia commenced services on 31 Augu...</td>\n",
       "      <td>closed_qa</td>\n",
       "    </tr>\n",
       "    <tr>\n",
       "      <th>4</th>\n",
       "      <td>When was Tomoaki Komorida born?</td>\n",
       "      <td>Komorida was born in Kumamoto Prefecture on Ju...</td>\n",
       "      <td>Tomoaki Komorida was born on July 10,1981.</td>\n",
       "      <td>closed_qa</td>\n",
       "    </tr>\n",
       "    <tr>\n",
       "      <th>6</th>\n",
       "      <td>Given a reference text about Lollapalooza, whe...</td>\n",
       "      <td>Lollapalooza /ˌlɒləpəˈluːzə/ (Lolla) is an ann...</td>\n",
       "      <td>Lollapalooze is an annual musical festival hel...</td>\n",
       "      <td>closed_qa</td>\n",
       "    </tr>\n",
       "    <tr>\n",
       "      <th>11</th>\n",
       "      <td>Who was Kyle Van Zyl playing against when he s...</td>\n",
       "      <td>Van Zyl joined the Eastern Province Kings Acad...</td>\n",
       "      <td>Kyle Van Zyl was playing against Boland U21 wh...</td>\n",
       "      <td>closed_qa</td>\n",
       "    </tr>\n",
       "    <tr>\n",
       "      <th>48</th>\n",
       "      <td>Who was the first to record the Needles and Pi...</td>\n",
       "      <td>\"Needles and Pins\" is a rock song credited to ...</td>\n",
       "      <td>The first artist to record Needles and Pins so...</td>\n",
       "      <td>closed_qa</td>\n",
       "    </tr>\n",
       "    <tr>\n",
       "      <th>...</th>\n",
       "      <td>...</td>\n",
       "      <td>...</td>\n",
       "      <td>...</td>\n",
       "      <td>...</td>\n",
       "    </tr>\n",
       "    <tr>\n",
       "      <th>14988</th>\n",
       "      <td>How many types of cat does the world cat feder...</td>\n",
       "      <td>As of 2023, The International Cat Association ...</td>\n",
       "      <td>69</td>\n",
       "      <td>closed_qa</td>\n",
       "    </tr>\n",
       "    <tr>\n",
       "      <th>14990</th>\n",
       "      <td>What is the history of coffee?</td>\n",
       "      <td>The history of coffee dates back to centuries ...</td>\n",
       "      <td>Much of the early history of coffee was tied t...</td>\n",
       "      <td>closed_qa</td>\n",
       "    </tr>\n",
       "    <tr>\n",
       "      <th>15001</th>\n",
       "      <td>What are common florals found in Zigalga Natio...</td>\n",
       "      <td>Zigalga National Park (Russian: Национальный п...</td>\n",
       "      <td>Zigalga National Park has the majority of its ...</td>\n",
       "      <td>closed_qa</td>\n",
       "    </tr>\n",
       "    <tr>\n",
       "      <th>15003</th>\n",
       "      <td>What is linux Bootloader</td>\n",
       "      <td>A bootloader, also spelled as boot loader or c...</td>\n",
       "      <td>A bootloader is a program written in machine c...</td>\n",
       "      <td>closed_qa</td>\n",
       "    </tr>\n",
       "    <tr>\n",
       "      <th>15005</th>\n",
       "      <td>What is one-child policy?</td>\n",
       "      <td>The term one-child policy refers to a populati...</td>\n",
       "      <td>The \"one-child policy\" was a Chinese populatio...</td>\n",
       "      <td>closed_qa</td>\n",
       "    </tr>\n",
       "  </tbody>\n",
       "</table>\n",
       "<p>1773 rows × 4 columns</p>\n",
       "</div>"
      ],
      "text/plain": [
       "                                             instruction  \\\n",
       "0             When did Virgin Australia start operating?   \n",
       "4                        When was Tomoaki Komorida born?   \n",
       "6      Given a reference text about Lollapalooza, whe...   \n",
       "11     Who was Kyle Van Zyl playing against when he s...   \n",
       "48     Who was the first to record the Needles and Pi...   \n",
       "...                                                  ...   \n",
       "14988  How many types of cat does the world cat feder...   \n",
       "14990                     What is the history of coffee?   \n",
       "15001  What are common florals found in Zigalga Natio...   \n",
       "15003                           What is linux Bootloader   \n",
       "15005                          What is one-child policy?   \n",
       "\n",
       "                                                 context  \\\n",
       "0      Virgin Australia, the trading name of Virgin A...   \n",
       "4      Komorida was born in Kumamoto Prefecture on Ju...   \n",
       "6      Lollapalooza /ˌlɒləpəˈluːzə/ (Lolla) is an ann...   \n",
       "11     Van Zyl joined the Eastern Province Kings Acad...   \n",
       "48     \"Needles and Pins\" is a rock song credited to ...   \n",
       "...                                                  ...   \n",
       "14988  As of 2023, The International Cat Association ...   \n",
       "14990  The history of coffee dates back to centuries ...   \n",
       "15001  Zigalga National Park (Russian: Национальный п...   \n",
       "15003  A bootloader, also spelled as boot loader or c...   \n",
       "15005  The term one-child policy refers to a populati...   \n",
       "\n",
       "                                                response   category  \n",
       "0      Virgin Australia commenced services on 31 Augu...  closed_qa  \n",
       "4             Tomoaki Komorida was born on July 10,1981.  closed_qa  \n",
       "6      Lollapalooze is an annual musical festival hel...  closed_qa  \n",
       "11     Kyle Van Zyl was playing against Boland U21 wh...  closed_qa  \n",
       "48     The first artist to record Needles and Pins so...  closed_qa  \n",
       "...                                                  ...        ...  \n",
       "14988                                                 69  closed_qa  \n",
       "14990  Much of the early history of coffee was tied t...  closed_qa  \n",
       "15001  Zigalga National Park has the majority of its ...  closed_qa  \n",
       "15003  A bootloader is a program written in machine c...  closed_qa  \n",
       "15005  The \"one-child policy\" was a Chinese populatio...  closed_qa  \n",
       "\n",
       "[1773 rows x 4 columns]"
      ]
     },
     "execution_count": 14,
     "metadata": {},
     "output_type": "execute_result"
    }
   ],
   "source": [
    "df"
   ]
  },
  {
   "cell_type": "code",
   "execution_count": 15,
   "metadata": {},
   "outputs": [],
   "source": [
    "questions = []\n",
    "contexts = []\n",
    "df = df.reset_index()\n",
    "for index, row in df.iterrows():\n",
    "    questions.append(\n",
    "        Question(row['instruction'], index, None, None)\n",
    "    )\n",
    "    contexts.append(Context(row['context'], index, None, None))"
   ]
  },
  {
   "cell_type": "code",
   "execution_count": 16,
   "metadata": {},
   "outputs": [],
   "source": [
    "collection = DataCollection(questions, contexts, metadata={\n",
    "    \"category\":\"dolly\"\n",
    "})"
   ]
  },
  {
   "cell_type": "code",
   "execution_count": 18,
   "metadata": {},
   "outputs": [],
   "source": [
    "import pickle\n",
    "with open(\"data/raw/dolly-base.pkl\", 'wb') as file:\n",
    "    pickle.dump(collection, file)"
   ]
  },
  {
   "cell_type": "code",
   "execution_count": null,
   "metadata": {},
   "outputs": [],
   "source": []
  }
 ],
 "metadata": {
  "kernelspec": {
   "display_name": "Python 3",
   "language": "python",
   "name": "python3"
  },
  "language_info": {
   "codemirror_mode": {
    "name": "ipython",
    "version": 3
   },
   "file_extension": ".py",
   "mimetype": "text/x-python",
   "name": "python",
   "nbconvert_exporter": "python",
   "pygments_lexer": "ipython3",
   "version": "3.12.1"
  }
 },
 "nbformat": 4,
 "nbformat_minor": 2
}
